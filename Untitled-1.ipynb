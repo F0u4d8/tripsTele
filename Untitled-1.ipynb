{
 "cells": [
  {
   "cell_type": "code",
   "execution_count": null,
   "metadata": {},
   "outputs": [],
   "source": []
  },
  {
   "cell_type": "code",
   "execution_count": 20,
   "metadata": {},
   "outputs": [],
   "source": [
    "#imports here\n",
    "from selenium import webdriver\n",
    "from selenium.webdriver.common.keys import Keys\n",
    "from selenium.webdriver.support import expected_conditions as EC\n",
    "from selenium.webdriver.common.by import By\n",
    "from selenium.webdriver.support.wait import WebDriverWait\n",
    "from selenium.webdriver.chrome.service import Service as ChromeService\n",
    "from selenium.webdriver.support.ui import Select \n",
    "import re\n",
    "\n",
    "\n",
    "import time"
   ]
  },
  {
   "cell_type": "code",
   "execution_count": 18,
   "metadata": {},
   "outputs": [],
   "source": [
    "def parse_netscape_cookies(file_path):\n",
    "    cookies = []\n",
    "    with open(file_path, 'r') as file:\n",
    "        for line in file:\n",
    "            if line.startswith('#') or not line.strip():\n",
    "                continue  # Skip comments and empty lines\n",
    "            parts = line.strip().split('\\t')\n",
    "            cookie = {\n",
    "                'domain': parts[0],\n",
    "                'httpOnly': parts[1].upper() == 'TRUE',\n",
    "                'path': parts[2],\n",
    "                'secure': parts[3].upper() == 'TRUE',\n",
    "                'expiry': int(parts[4]) if parts[4].isdigit() else None,\n",
    "                'name': parts[5],\n",
    "                'value': parts[6]\n",
    "            }\n",
    "            cookies.append(cookie)\n",
    "    return cookies\n",
    "\n",
    "chrome_options = webdriver.ChromeOptions()\n",
    "prefs = {\"profile.default_content_setting_values.notifications\" : 2}\n",
    "chrome_options.add_experimental_option(\"prefs\",prefs)\n",
    "chrome_options.add_argument(\"--start-maximized\")"
   ]
  },
  {
   "cell_type": "code",
   "execution_count": 36,
   "metadata": {},
   "outputs": [
    {
     "name": "stdout",
     "output_type": "stream",
     "text": [
      "30\n",
      "{'deal_name': 'Gallion Hotel', 'deal_price': '8.60 kn 14 per person', 'deal_location': 'Antalya-området / Alanya', 'flight_deal': '', 'deal_details': 'Pool - Restaurang - Bar - Internet\\nStrand 150 m - Centrum 0 m', 'deal_image_url': None, 'floatPrice': 8.595}\n"
     ]
    }
   ],
   "source": [
    "driver = webdriver.Chrome(options=chrome_options)\n",
    "driver.get(\"https://www.mixxtravel.se/Packages?Departure=GOT&Arrival=357&DName=G%C3%B6teborg&CheckIn=28/06/2024&Night=14&Adult=2&Child=0\")\n",
    "\n",
    "\n",
    "\n",
    "# Wait for the main list to load (adjust the selector as needed)\n",
    "wait = WebDriverWait(driver, 10)\n",
    "\n",
    "time.sleep(5)\n",
    "xpath = \"//div[@class='ssBt']\"\n",
    "text_content = \"Prisökning\"\n",
    "button = wait.until(EC.element_to_be_clickable((By.XPATH, f\"{xpath}[contains(text(), '{text_content}')]\")))\n",
    "button.click()   \n",
    "deals = wait.until(EC.presence_of_all_elements_located((By.XPATH, \"//div[@class='wideHotelBox wideHotelBoxOrg' ]\")))\n",
    "print(len(deals))\n",
    "if deals:\n",
    "            first_deal = deals[1]\n",
    "\n",
    "            # Extracting deal details\n",
    "            deal_location = first_deal.find_element(By.XPATH, \".//div[contains(@class, 'wcLocation')]\").text.strip()\n",
    "            deal_name = first_deal.find_element(By.XPATH, \".//div[contains(@class, 'wcTitle')]\").text.strip()\n",
    "            \n",
    "            deal_price = first_deal.find_element(By.XPATH, \".//div[contains(@class, 'wcMainPrice')]\").text.strip()\n",
    "            flight_deal = ''\n",
    "            deal_details = first_deal.find_element(By.XPATH, \".//div[contains(@class, 'wcDesc')]\").text.strip()\n",
    "            deal_image_url=None\n",
    "\n",
    "            \n",
    "            deal_price_match = re.search(r'([\\d\\s.,]+):-', deal_price)\n",
    "            if deal_price_match:\n",
    "    # Extract and clean up the matched price\n",
    "              deal_price_str = deal_price_match.group(1).replace('\\u2009', '').replace(',', '').strip()\n",
    "              try:\n",
    "        # Convert to float (assuming it represents a numeric value)\n",
    "               deal_price_float = float(deal_price_str)\n",
    "        # Optionally format it back to the desired string format\n",
    "               deal_price_formatted = f\"{deal_price_float:.2f} kn 14 per person\"\n",
    "              except ValueError:\n",
    "        # Handle the case where conversion to float fails\n",
    "                deal_price_formatted = \"N/A\"\n",
    "                deal_price_float = None\n",
    "                  \n",
    "           \n",
    "            # Constructing the deal object\n",
    "            deal_object = {\n",
    "                \"deal_name\": deal_name,\n",
    "                \"deal_price\": deal_price_formatted,\n",
    "                \"deal_location\": deal_location,\n",
    "                \"flight_deal\": flight_deal,\n",
    "                \"deal_details\": deal_details,\n",
    "                \"deal_image_url\": deal_image_url,\n",
    "                \"floatPrice\":deal_price_float\n",
    "                \n",
    "            }\n",
    "            print(deal_object)\n",
    "            \n",
    "\n",
    "        \n",
    "        \n",
    "        \n",
    "    \n",
    "     \n",
    "\n",
    "driver.quit()"
   ]
  },
  {
   "cell_type": "code",
   "execution_count": null,
   "metadata": {},
   "outputs": [],
   "source": []
  }
 ],
 "metadata": {
  "kernelspec": {
   "display_name": "base",
   "language": "python",
   "name": "python3"
  },
  "language_info": {
   "codemirror_mode": {
    "name": "ipython",
    "version": 3
   },
   "file_extension": ".py",
   "mimetype": "text/x-python",
   "name": "python",
   "nbconvert_exporter": "python",
   "pygments_lexer": "ipython3",
   "version": "3.11.7"
  }
 },
 "nbformat": 4,
 "nbformat_minor": 2
}
